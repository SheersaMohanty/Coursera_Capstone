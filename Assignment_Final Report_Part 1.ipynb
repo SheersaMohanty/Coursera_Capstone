{
 "cells": [
  {
   "cell_type": "markdown",
   "metadata": {
    "collapsed": true
   },
   "source": [
    "# Analysing the Preparedness of Auckland Businesses for Global Changes in Business Processes"
   ]
  },
  {
   "cell_type": "markdown",
   "metadata": {},
   "source": [
    "### Introduction"
   ]
  },
  {
   "cell_type": "markdown",
   "metadata": {},
   "source": [
    "Auckland is the main commercial and corporate hub of New Zealand, hence the Auckland Council, in conjunction with government councils in adjacent regions and other developmental partners, aim to provide and maintain modern infrastructure throughout the region.\n",
    "\n",
    "This objective is to support the growth of businesses, which is the main source of employment to the rest of the Nation’s population, directly or indirectly. However, the council also recognises that entrepreneurs must be able to take advantage of these modern infrastructure to engage in vibrant business activities, hence it also provides information directed at achieving this aim. This is done mainly through various Auckland Council Development Plans, which are publicly available."
   ]
  },
  {
   "cell_type": "markdown",
   "metadata": {},
   "source": [
    "### Problem"
   ]
  },
  {
   "cell_type": "markdown",
   "metadata": {},
   "source": [
    "The first Greater Auckland Plan, produced in 2012, mentioned providing various forms of support to Auckland businesses towards large-scale adoption of modern business operation tools. Examples of these tools are multimedia websites, online market portals and e-commerce platforms. These need high-speed internet service roll-out, which the Council has been actively supporting.\n",
    "\n",
    "Despite the reiteration of this commitment to providing the required infrastructure and planning support to local businesses in the latest version of the planning document, the Auckland Plan 2050, a basic check of many business directories, online or offline, shows that many businesses do not have a cyberspace presence and hence are not doing their part in taking advantage of these internet services. Also, at the time the Auckland Plan 2050 was being drafted, there were no obvious signs that a global pandemic would shortly occur, but it clearly expresses the need for businesses to obtain a presence in the cyberspace. Currently, COVID-19 has devastated many businesses, with numerous jobs lost. Businesses are now scrambling to adapt to the requirements for safe operations, which involve figuring out how to keep their staff and patrons safe while still turning a profit.\n",
    "\n",
    "This project mainly seeks to investigate how well Auckland businesses are adapting to the COVID-19 pandemic, by analysing the presence of these businesses in the cyberspace. Other objectives also exist, which will be described in the next Section."
   ]
  },
  {
   "cell_type": "markdown",
   "metadata": {},
   "source": [
    "### Background"
   ]
  },
  {
   "cell_type": "markdown",
   "metadata": {},
   "source": [
    "Obtaining cyberspace presence for businesses involves developing customised static or interactive websites, creating free profiles in generalised web platforms such as Facebook, Instagram, Snapchat, or using paid marketplace platforms such as TradeMe and Mallplanet. The URL (Uniform Resource Locator) of such web platforms are then widely disseminated in offline directories such as NZ Post Yellow Pages and online directories such as The Heart of The City, where internet users can find these businesses and access the information contained on their websites. This project will carry out four basic checks of these URLs:\n",
    "1. The existence of a URL.\n",
    "2. The availability of the website through the URL.\n",
    "3. The provision of critical information tangential to adequate patronage of the business. Due to the COVID-19 pandemic, a check of the availability of COVID information on the website’s home page will be the only check carried out.\n",
    "\n",
    "In addition, the project will carry out a general assessment of the various businesses operating in Auckland, specifically within the CBD. The locations of the businesses will be mapped using longitude and latitude coordinates, and the level of activity/popularity of businesses around selected locations which have pedestrian counters will also be investigated using Foursquare Location Data. Relationships between these factors will be established with a view to show that businesses without adequate cyberspace presence may experience significant problems staying viable, even in the anticipated post-COVID era, due to major and somewhat permanent shifts in worldwide business operation standards and etiquettes."
   ]
  },
  {
   "cell_type": "code",
   "execution_count": null,
   "metadata": {},
   "outputs": [],
   "source": []
  }
 ],
 "metadata": {
  "kernelspec": {
   "display_name": "Python 3.6",
   "language": "python",
   "name": "python3"
  },
  "language_info": {
   "codemirror_mode": {
    "name": "ipython",
    "version": 3
   },
   "file_extension": ".py",
   "mimetype": "text/x-python",
   "name": "python",
   "nbconvert_exporter": "python",
   "pygments_lexer": "ipython3",
   "version": "3.6.9"
  }
 },
 "nbformat": 4,
 "nbformat_minor": 1
}
